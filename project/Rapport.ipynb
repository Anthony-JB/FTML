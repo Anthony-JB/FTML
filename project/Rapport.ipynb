{
 "cells": [
  {
   "cell_type": "markdown",
   "id": "1a57aea1",
   "metadata": {},
   "source": [
    "Anthony BERNARD, Junyi Li"
   ]
  },
  {
   "cell_type": "markdown",
   "id": "bef5d737",
   "metadata": {},
   "source": [
    "<h1><center>FTML Project Report</center></h1>"
   ]
  },
  {
   "cell_type": "code",
   "execution_count": 1,
   "id": "e53935ce",
   "metadata": {},
   "outputs": [],
   "source": [
    "import numpy as np\n",
    "import os\n",
    "import matplotlib.pyplot as plt\n",
    "import data\n",
    "from sklearn.linear_model import Ridge\n",
    "from sklearn.metrics import r2_score\n",
    "from sklearn.model_selection import GridSearchCV\n",
    "from sklearn.neural_network import MLPRegressor\n",
    "from sklearn.linear_model import RidgeCV\n",
    "from sklearn.linear_model import Lasso\n",
    "from sklearn.neighbors import KNeighborsClassifier\n",
    "from sklearn.svm import SVC\n",
    "from scipy.stats import reciprocal, uniform\n",
    "from sklearn.tree import DecisionTreeClassifier\n",
    "from sklearn.ensemble import RandomForestClassifier"
   ]
  },
  {
   "cell_type": "markdown",
   "id": "e72f37e2",
   "metadata": {},
   "source": [
    "## 1 bayes estimator and bayes risk"
   ]
  },
  {
   "cell_type": "markdown",
   "id": "f4fc6d8b",
   "metadata": {},
   "source": [
    "### Q1"
   ]
  },
  {
   "cell_type": "markdown",
   "id": "fa599521",
   "metadata": {},
   "source": [
    "On choisit les paramètres suivants :\n",
    "$$\n",
    "\\begin{aligned}\n",
    "\\mathcal{X} & =\\{1, 2, 3\\} \\\\\n",
    "\\mathcal{Y} & =\\{0, 1\\}\n",
    "\\end{aligned}\n",
    "$$\n",
    "$X$ suit une loi uniforme sur $\\mathcal{X}$\n",
    "$$\n",
    "Y=\\left\\{\\begin{array}{l}\n",
    "Q(1 / 4) \\text { if } X=1 \\\\\n",
    "Q(2 / 5) \\text { if } X=2 \\\\\n",
    "Q(3 / 4) \\text { if } X=3\n",
    "\\end{array}\\right.\n",
    "$$\n",
    "Avec $Q(p)$ un loi de paramètre $p$, telle que :\n",
    "$$\n",
    "P(X=x)=\\left\\{\\begin{array}{l}\n",
    "p \\text { if } x=0 \\\\\n",
    "1-p \\text { if } x=1 \\\\\n",
    "0 \\text { else }\n",
    "\\end{array}\\right.\n",
    "$$"
   ]
  },
  {
   "cell_type": "markdown",
   "id": "bb5ac029",
   "metadata": {},
   "source": [
    "On choisit la \"0-1\" loss $l(y, z)=1_{y \\neq z}$.  \n",
    "L'estimateur de Bayes est défini par :\n",
    "$$\n",
    "f^*(x)=\\arg \\min E[l(y, z) \\mid X=x]\n",
    "$$\n",
    "Ainsi :\n",
    "$$\n",
    "\\begin{aligned}\n",
    "f^*(x) & =\\arg \\min E[l(y, z) \\mid X=x] \\\\\n",
    "& =\\arg \\min P(Y \\neq z \\mid X=x) \\\\\n",
    "& =1-\\arg \\min P(Y=z \\mid X=x) \\\\\n",
    "& =\\arg \\max P(Y=z \\mid X=x)\n",
    "\\end{aligned}\n",
    "$$\n",
    "On obtient:\n",
    "\\begin{aligned}\n",
    "-f^*(1) & =1 \\\\\n",
    "-f^*(2) & =1 \\\\\n",
    "-f^*(3) & =0\n",
    "\\end{aligned}"
   ]
  },
  {
   "cell_type": "markdown",
   "id": "0657d014",
   "metadata": {},
   "source": [
    "On va calculer le risque de Bayes :\n",
    "$$\n",
    "\\begin{aligned}\n",
    "R^*(x) & =E\\left[l\\left(Y, f^*(X)\\right)\\right] \\\\\n",
    "& =E_X\\left[E_Y\\left(l\\left(Y \\neq f^*(X) \\mid X\\right)\\right)\\right] \\\\\n",
    "& =E_X\\left[P\\left(Y \\neq f^*(X) \\mid X\\right)\\right]\n",
    "\\end{aligned}\n",
    "$$\n",
    "Sachant que :\n",
    "$$\n",
    "P\\left(Y \\neq f^*(X) \\mid X=x\\right)=P\\left(Y \\neq f^*(x)\\right)\n",
    "$$\n",
    "On note $\\eta(x)=P(Y=0 \\mid X=x)$. Then :\n",
    "- Si $\\eta(x)>\\frac{1}{2}$, alors $f^*(x)=0$, et $P\\left(Y \\neq f^*(x)\\right)=P(Y=1)=1-\\eta(x)$\n",
    "- Si $\\eta(x)<\\frac{1}{2}$, alors $f^*(x)=1$, et $P\\left(Y \\neq f^*(x)\\right)=P(Y=0)=\\eta(x)$  \n",
    "ON obtient, $P\\left(Y \\neq f^*(x)\\right)=\\min (\\eta(x), 1-\\eta(x))$.  \n",
    "Donc\n",
    "$$\n",
    "R^*=E_X[\\min (\\eta(X), 1-\\eta(X)]\n",
    "$$"
   ]
  },
  {
   "cell_type": "markdown",
   "id": "0f8877c5",
   "metadata": {},
   "source": [
    "On applique :\n",
    "$$\n",
    "\\begin{aligned}\n",
    "R^* & =\\frac{1}{3} *\\frac{1}{4}+\\frac{1}{3} *\\frac{2}{5}+\\frac{1}{3} *\\frac{1}{4} \\\\\n",
    "R^* & =\\frac{3}{10}\n",
    "\\end{aligned}\n",
    "$$"
   ]
  },
  {
   "cell_type": "markdown",
   "id": "eaaf6035",
   "metadata": {},
   "source": [
    "### Q2"
   ]
  },
  {
   "cell_type": "code",
   "execution_count": 2,
   "id": "78d8ebf0",
   "metadata": {},
   "outputs": [
    {
     "data": {
      "image/png": "[encoded data removed]",
      "text/plain": [
       "<Figure size 432x288 with 1 Axes>"
      ]
     },
     "metadata": {
      "needs_background": "light"
     },
     "output_type": "display_data"
    }
   ],
   "source": [
    "SIGMA = 8\n",
    "BAYES_RISK = SIGMA**2\n",
    "\n",
    "def generate_output_data(\n",
    "    X: np.ndarray, theta_star, sigma: float, rng, n_tests: int\n",
    ") -> np.ndarray:\n",
    "    \"\"\"\n",
    "    generate input and output data (supervised learning)\n",
    "    according to the linear model, fixed design setup\n",
    "    - X is fixed\n",
    "    - y is random, according to\n",
    "\n",
    "    Y = Xtheta_star + epsilon\n",
    "\n",
    "    We use numpy matrix manipulations in order\n",
    "    to directly generate a number of output vectors.\n",
    "\n",
    "    where epsilon is a centered gaussian noise vector with variance\n",
    "    sigma*In\n",
    "\n",
    "    Parameters:\n",
    "        X: (n, d) design matrix\n",
    "        theta_star\n",
    "        sigma (float): variance of the noise\n",
    "\n",
    "    Returns:\n",
    "        Y (float matrix): output vector (n, 1)\n",
    "    \"\"\"\n",
    "    n = X.shape[0]\n",
    "    noise = rng.normal(0, sigma, size=(n, n_tests))\n",
    "    y = theta_star(X) + noise\n",
    "    return y\n",
    "\n",
    "def ridge_regression_estimator(\n",
    "    X: np.ndarray, y: np.ndarray, lambda_: float\n",
    ") -> np.ndarray:\n",
    "    \"\"\"\n",
    "    Compute the Ridge regression estimator\n",
    "\n",
    "    We use numpy broadcasting to accelerate computations\n",
    "    and obtain several Ridge estimators.\n",
    "\n",
    "    Parameters:\n",
    "        X: (n, d) matrix\n",
    "        y: (n, n_tests) matrix\n",
    "        lambda: regularization parameter\n",
    "\n",
    "    Returns:\n",
    "        theta_hat: (d, n_tests) matrix\n",
    "    \"\"\"\n",
    "    n, d = X.shape\n",
    "    covariance_matrix = X.T @ X\n",
    "    Sigma_matrix = covariance_matrix / n\n",
    "    theta_hat = 1 / n * np.linalg.inv(Sigma_matrix + lambda_ * np.identity(d)) @ X.T @ y\n",
    "    return theta_hat\n",
    "\n",
    "def q_law(x, p):\n",
    "    return p if x == 0 else (1 - p if x == 1 else 0)\n",
    "\n",
    "def bayes_predictor(x):\n",
    "    if x == 1:\n",
    "        return 0 if q_law(0, 1/4) > q_law(1, 1/4) else 1\n",
    "    if x == 2:\n",
    "        return 0 if q_law(0, 2/5) > q_law(1, 2/5) else 1\n",
    "    if x == 3:\n",
    "        return 0 if q_law(0, 3/4) > q_law(1, 3/4) else 1\n",
    "    \n",
    "def ridge_risk(n, d, lambda_, n_tests) -> tuple[float, float]:\n",
    "    \"\"\"\n",
    "    Statistical evaluation of the excess risk of the Ridge regression\n",
    "    estimator\n",
    "\n",
    "    n_test times, do:\n",
    "        - Draw output vector Y, according to the linear model, fixed\n",
    "        design setup.\n",
    "        - compute the corresponding Ridge estimator\n",
    "        - generate a test test in order to have an estimation of the excess risk of\n",
    "        this estimator (generalization error)\n",
    "\n",
    "    Parameters:\n",
    "        n (int): number of samples in the dataset\n",
    "        d (int): dimension of each sample (number of features)\n",
    "        n_tests (int): number of simulations run\n",
    "\n",
    "    Returns:\n",
    "        risk_estimation (float): estimation of the excess risk of the ridge\n",
    "        estimator in this setup.\n",
    "    \"\"\"\n",
    "    # instantiate a PRNG\n",
    "    rng = np.random.default_rng()\n",
    "\n",
    "    # design matrix\n",
    "    X = np.array([[rng.choice([1, 2, 3]) for _ in range(d)] for _ in range(n)])\n",
    "\n",
    "    # Bayes predictor\n",
    "    theta_star = np.vectorize(bayes_predictor)\n",
    "\n",
    "    # run several simulations to have an estimation of the excess risk\n",
    "    y = generate_output_data(X, theta_star, SIGMA, rng, n_tests)\n",
    "\n",
    "    # compute the Ridge regression estimator\n",
    "    theta_hat = ridge_regression_estimator(X, y, lambda_)\n",
    "\n",
    "    # generate test data\n",
    "    y_test = generate_output_data(X, theta_star, SIGMA, rng, n_tests)\n",
    "\n",
    "    # compute predictions of each OLS estimator\n",
    "    y_pred = X @ theta_hat\n",
    "\n",
    "    mean_test_error = np.linalg.norm(y_pred - y_test) ** 2 / (n * n_tests)\n",
    "\n",
    "    return mean_test_error\n",
    "\n",
    "def plot_test_errors_ridge(\n",
    "    risks: dict[tuple, float], d_list: list[int], n: int, lambda_list: list[int]\n",
    ") -> None:\n",
    "    \"\"\"\n",
    "    Display all the computed risks on a plot\n",
    "    \"\"\"\n",
    "    colors = [\"blue\", \"green\", \"darkred\", \"mediumvioletred\", \"darkmagenta\"]\n",
    "    index = 0\n",
    "\n",
    "    # plot the risks for each n and d\n",
    "    for index, d in enumerate(d_list):\n",
    "        color = colors[index]\n",
    "        risk_estimates = [risks[d, lambda_] for lambda_ in lambda_list]\n",
    "        ols_risk = BAYES_RISK + SIGMA**2 * d / n\n",
    "        alpha = 0.6\n",
    "        # extended label for the first ont\n",
    "        label_est = f\"Ridge test error, d={d}\"\n",
    "        label_ols = f\"OLS risk, d={d}\"\n",
    "        plt.plot(\n",
    "            lambda_list,\n",
    "            risk_estimates,\n",
    "            label=label_est,\n",
    "            color=color,\n",
    "            markersize=3,\n",
    "            alpha=alpha,\n",
    "        )\n",
    "        plt.plot(\n",
    "            lambda_list,\n",
    "            [ols_risk] * len(lambda_list),\n",
    "            label=label_ols,\n",
    "            color=\"darkmagenta\",\n",
    "            alpha=alpha,\n",
    "        )\n",
    "\n",
    "    plt.plot(\n",
    "        lambda_list,\n",
    "        [BAYES_RISK] * len(lambda_list),\n",
    "        label=\"Bayes risk: \" + r\"$\\sigma^2$\",\n",
    "        color=\"aqua\",\n",
    "    )\n",
    "\n",
    "    # finish plot\n",
    "    plt.xlabel(r\"$\\lambda$\")\n",
    "    plt.ylabel(\"test error\")\n",
    "    plt.title(\n",
    "        \"Ridge regression: risks as a function of \" + r\"$\\lambda$\"\n",
    "    )\n",
    "    plt.legend(loc=\"best\", fontsize=6)\n",
    "\n",
    "# dimensions of the problem\n",
    "n_list = [30]\n",
    "n = 30\n",
    "# d_list = list(range(0, 1000, 200))\n",
    "# d_list.remove(0)\n",
    "d_list = [1]\n",
    "bayes_risk = 3/10\n",
    "\n",
    "exponents = [k for k in range(-6, 6)]\n",
    "lambda_list = [10 ** (u) for u in exponents]\n",
    "\n",
    "# number of tests to estimate the excess risk\n",
    "n_tests = int(1e4)\n",
    "\n",
    "# Assess the influence of different values of n and d\n",
    "test_errors = dict()\n",
    "for d in d_list:\n",
    "    for lambda_ in lambda_list:\n",
    "        # print(f\"lambda: {lambda_}\")\n",
    "        for n in n_list:\n",
    "            test_errors[(d, lambda_)] = ridge_risk(n, d, lambda_, n_tests)\n",
    "plot_test_errors_ridge(test_errors, d_list, 30, lambda_list)"
   ]
  },
  {
   "cell_type": "markdown",
   "id": "51b5b48d",
   "metadata": {},
   "source": [
    "The generalization error is smaller for $f^*$ than for $\\tilde{f}$"
   ]
  },
  {
   "cell_type": "markdown",
   "id": "8ac3d574",
   "metadata": {},
   "source": [
    "## 2 bayes risk with absolute loss"
   ]
  },
  {
   "cell_type": "markdown",
   "id": "dd2f84be",
   "metadata": {},
   "source": [
    "### Q1"
   ]
  },
  {
   "cell_type": "markdown",
   "id": "fe5740fe",
   "metadata": {},
   "source": [
    "$\\mathrm{P}(\\mathrm{Y} \\mid \\mathrm{X}=\\mathrm{x})$ where $\\mathrm{Y} \\mid \\mathrm{X}=\\mathrm{x}$ correspond à une distribution continue $\\operatorname{Exp}(\\lambda)$.  \n",
    "L'estimateur de Bayes pour la $l_2$ squared loss\n",
    "$$\n",
    "f_2^*(x)=E[Y \\mid X=x]=E\\left[\\lambda e^{-\\lambda}\\right]=\\frac{1}{\\lambda}\n",
    "$$\n",
    "L'estimateur de Bayes pour la $l_1$ absolute loss est la médiane de $\\mathrm{Y} \\mid \\mathrm{X}=\\mathrm{x}$\n",
    "$$\n",
    "f_1^*(x)=\\frac{\\ln (2)}{\\lambda}\n",
    "$$\n",
    "ON a bien 2 estimateurs différents"
   ]
  },
  {
   "cell_type": "markdown",
   "id": "af1f070f",
   "metadata": {},
   "source": [
    "### Q2"
   ]
  },
  {
   "cell_type": "markdown",
   "id": "f1503c71",
   "metadata": {},
   "source": [
    "On note $p=\\mathrm{P}(\\mathrm{Y} \\mid \\mathrm{X}=\\mathrm{x})$\n",
    "$$\n",
    "\\begin{gathered}\n",
    "g(z)=\\int_{\\mathbb{R}}|y-z| p(y) d y \\\\\n",
    "=\\int_z^{+\\infty} y p(y) d y-z \\int_z^{+\\infty} p(y) d y+z \\int_{-\\infty}^z p(y) d y-\\int_{-\\infty}^z y p(y) d y \\\\\n",
    "\\frac{d}{d z} g(z)=-z p(z)-\\left(\\int_z^{+\\infty} p(y) d y-z p(z)\\right)+\\left(\\int_{-\\infty}^z p(y) d y+z p(z)\\right)-z p(z) \\\\\n",
    "=\\int_{-\\infty}^z p(y) d y-\\int_z^{+\\infty} p(y) d y\n",
    "\\end{gathered}\n",
    "$$\n",
    "On obtient, $\\frac{d}{d z} g(z)=0$ si :\n",
    "$$\n",
    "\\int_{-\\infty}^z p(y) d y=\\int_z^{+\\infty} p(y) d y\n",
    "$$\n",
    "On a ce résultat, si on trouve $\\frac{1}{2}$ des deux côtés, donc l'estmiateur de Bayes $f^*(x)$ est la médianne.  \n",
    "On va confirmé qu'il sagit d'un minimum de $\\mathrm{g}(\\mathrm{z})$, dérivée seconde:\n",
    "$$\n",
    "\\frac{d^2}{d z^2} g(z)=2 p(z)>0\n",
    "$$\n",
    "Elle est positive donc on a un minimum."
   ]
  },
  {
   "cell_type": "markdown",
   "id": "551dcf3d",
   "metadata": {},
   "source": [
    "## 3 expected value of empirical risk for ols"
   ]
  },
  {
   "cell_type": "markdown",
   "id": "0eec1a86",
   "metadata": {},
   "source": [
    "### Q1"
   ]
  },
  {
   "cell_type": "markdown",
   "id": "ba59525d",
   "metadata": {},
   "source": [
    "On veut montrer que $\\mathbb{E}\\left(R_n(\\hat{\\theta})\\right)=\\mathbb{E}_\\epsilon\\left(\\frac{1}{n}\\left\\|\\left(I_n-X\\left(X^T X\\right)^{-1} X^T\\right) \\epsilon\\right\\|^2\\right)$  \n",
    "Or $R_n(\\hat{\\theta})=\\frac{1}{n}\\|Y-X \\hat{\\theta}\\|^2$ et $\\hat{\\theta}=\\left(X^T X\\right)^{-1} X^T Y$ et $Y=X \\theta^*+\\epsilon$  \n",
    "Donc:\n",
    "$$  \n",
    "\\begin{aligned}\n",
    "R_n(\\hat{\\theta}) & =\\frac{1}{n}\\left\\|X \\theta^*+\\epsilon-X\\left(X^T X\\right)^{-1} X^T\\left(X \\theta^*+\\epsilon\\right)\\right\\|^2 \\\\\n",
    "& =\\frac{1}{n}\\left\\|X \\theta^*+\\epsilon-X\\left(X^T X\\right)^{-1} X^T X \\theta^*+X\\left(X^T X\\right)^{-1} X^T \\epsilon\\right\\|^2 \\\\\n",
    "& =\\frac{1}{n}\\left\\|\\epsilon\\left(I_n-X\\left(X^T X\\right)^{-1} X^T\\right)\\right\\|^2\n",
    "\\end{aligned}\n",
    "$$\n",
    "Donc $\\mathbb{E}\\left(R_n(\\hat{\\theta})\\right)=\\mathbb{E}_\\epsilon\\left(\\frac{1}{n}\\left\\|\\left(I_n-X\\left(X^T X\\right)^{-1} X^T\\right) \\epsilon\\right\\|^2\\right)$"
   ]
  },
  {
   "cell_type": "markdown",
   "id": "f08783ff",
   "metadata": {},
   "source": [
    "### Q2"
   ]
  },
  {
   "cell_type": "markdown",
   "id": "4b6e56de",
   "metadata": {},
   "source": [
    "$$\n",
    "\\begin{gathered}\n",
    "A \\in \\mathbb{R}^{n, m} B \\in \\mathbb{R}^{n, m} \\\\\n",
    "\\operatorname{tr}\\left(A^T B\\right)=\\sum_{i, j \\in[1, n] \\times[1, m]} a_{i j} b_{i j}\n",
    "\\end{gathered}\n",
    "$$\n",
    "ON en conclut::\n",
    "$$\n",
    "\\begin{aligned}\n",
    "A & \\in \\mathbb{R}^{n, n} \\\\\n",
    "\\operatorname{tr}\\left(A^T A\\right) & =\\sum_{i, j} a_{i j} a_{i j}\n",
    "\\end{aligned}\n",
    "$$"
   ]
  },
  {
   "cell_type": "markdown",
   "id": "e1ac1a2f",
   "metadata": {},
   "source": [
    "### Q3"
   ]
  },
  {
   "cell_type": "markdown",
   "id": "912f3470",
   "metadata": {},
   "source": [
    "$\\begin{aligned}E\\left[\\frac{1}{n}\\|A \\varepsilon\\|^2\\right] & =E\\left[\\frac{1}{n} \\sum_{i=1}^n\\left(A_i \\varepsilon\\right)^2\\right] \\\\ \n",
    "& =E\\left[\\frac{1}{n} \\sum_{i=1}^n\\left(\\varepsilon^T A_i^T\\right)^2\\right] \\\\ \n",
    "& =E\\left[\\frac{1}{n} \\sum_{i=1}^n\\left(\\varepsilon^T A_i^T A_i \\varepsilon\\right)\\right] \\\\ \n",
    "& =E\\left[\\frac{1}{n} \\sum_{i=1}^n\\left(\\varepsilon^T \\varepsilon A_i^T A_i\\right)\\right] \\\\ \n",
    "& =E\\left[\\frac{1}{n} \\varepsilon^T \\varepsilon \\sum_{i=1}^n\\left(A_i^T A_i\\right)\\right] \\\\ \n",
    "& =E\\left[\\frac{1}{n} \\varepsilon^2 \\sum_{(i j) \\in[1, n]^2}\\left(A_{i j}^2\\right)\\right] \\\\ \n",
    "& =\\frac{\\sigma^2}{n} \\operatorname{Tr}\\left(A^T A\\right)\\end{aligned}$"
   ]
  },
  {
   "cell_type": "markdown",
   "id": "508ad0ca",
   "metadata": {},
   "source": [
    "### Q4"
   ]
  },
  {
   "cell_type": "markdown",
   "id": "6c32b135",
   "metadata": {},
   "source": [
    "$\\begin{gathered}A^t A=I_n-2 I_n X\\left(X^t X\\right)^{-1} X^t+X\\left(X^t X\\right)^{-1} X^t X\\left(X^t X\\right)^{-1} X^t \\\\ A^t A=I_n-2 X\\left(X^t X\\right)^{-1} X^t+X\\left(X^t X\\right)^{-1} X^t \\\\ \n",
    "A^t A=I_n-X\\left(X^t X\\right)^{-1} X^t \\\\ \n",
    "A^t A=A\\end{gathered}$\n"
   ]
  },
  {
   "cell_type": "markdown",
   "id": "063ddd82",
   "metadata": {},
   "source": [
    "### Q5"
   ]
  },
  {
   "cell_type": "markdown",
   "id": "f26f9332",
   "metadata": {},
   "source": [
    "$$\n",
    "\\begin{gathered}\n",
    "E\\left[R_n(\\hat{\\theta})\\right]=E_\\epsilon\\left[\\frac{1}{n}\\left\\|\\left(I_n-X\\left(X^T X\\right)^{-1} X^T\\right) \\epsilon\\right\\|_2^2\\right] \\\\\n",
    "=\\frac{\\sigma^2}{n} \\operatorname{tr}\\left(I_n-X\\left(X^T X\\right)^{-1} X^T\\right) \\\\\n",
    "=\\frac{\\sigma^2}{n}\\left(n-\\operatorname{tr}\\left(X\\left(X^T X\\right)^{-1} X^T\\right)\\right) \\\\\n",
    "=\\frac{\\sigma^2}{n}\\left(n-\\operatorname{tr}\\left(X^T X\\left(X^T X\\right)^{-1}\\right)\\right) \\\\\n",
    "=\\frac{\\sigma^2}{n}\\left(n-\\operatorname{tr}\\left(I_d\\right)\\right) \\\\\n",
    "=\\frac{\\sigma^2}{n}(n-d)\n",
    "\\end{gathered}\n",
    "$$\n",
    "Ainsi:\n",
    "$$\n",
    "E\\left[R_X(\\hat{\\theta})\\right]=E\\left[E\\left[R_n(\\hat{\\theta})\\right]\\right]=E\\left[\\frac{n-d}{n} \\sigma^2\\right]=\\frac{n-d}{n} \\sigma^2\n",
    "$$"
   ]
  },
  {
   "cell_type": "markdown",
   "id": "ec495e40",
   "metadata": {},
   "source": [
    "### Q6"
   ]
  },
  {
   "cell_type": "markdown",
   "id": "9729d645",
   "metadata": {},
   "source": [
    "On obtient:  \n",
    "$$\n",
    "\\frac{\\|y-\\widehat{\\theta}\\|}{n-d} \\sigma^2=\\frac{n-d}{n-d} \\sigma^2=\\sigma^2\n",
    "$$"
   ]
  },
  {
   "cell_type": "code",
   "execution_count": 3,
   "id": "d5427d68",
   "metadata": {},
   "outputs": [
    {
     "name": "stdout",
     "output_type": "stream",
     "text": [
      "Sigma value is 0.0625\n",
      "Sigma estimator is 0.06167132631455712\n"
     ]
    }
   ],
   "source": [
    "rng = np.random.RandomState(23)\n",
    "d = 23\n",
    "sigma = 0.25\n",
    "n = 5000\n",
    "theta = rng.rand(d).reshape(d, 1)\n",
    "\n",
    "X = rng.rand(n, d)\n",
    "epsilon = rng.normal(0, sigma, size=(n, 1))\n",
    "y = X @ theta + epsilon\n",
    "theta_hat = np.linalg.inv(X.T @ X) @ X.T @ y\n",
    "\n",
    "sigma_estimator = np.linalg.norm(y - X @ theta_hat) ** 2 / (n - d)\n",
    "print(\"Sigma value is\",format(float(sigma**2)))\n",
    "print(\"Sigma estimator is\",format(float(sigma_estimator)))"
   ]
  },
  {
   "cell_type": "markdown",
   "id": "c764facb",
   "metadata": {},
   "source": [
    "On a bien un résultat cohérent"
   ]
  },
  {
   "cell_type": "markdown",
   "id": "11234767",
   "metadata": {},
   "source": [
    "## 4 regression on a given dataset\n",
    "\n",
    "X_train correspond à un tableau 100x100 et y_train aux valeurs correspondantes.  \n",
    "On voit que les données dans X_train sont déjà normalisées."
   ]
  },
  {
   "cell_type": "markdown",
   "id": "efa05863",
   "metadata": {},
   "source": [
    "### Load data"
   ]
  },
  {
   "cell_type": "code",
   "execution_count": 4,
   "id": "c9b79fda",
   "metadata": {},
   "outputs": [],
   "source": [
    "X_train = np.load('data/regression/X_train.npy')\n",
    "y_train = np.load('data/regression/y_train.npy')\n",
    "X_test = np.load('data/regression/X_test.npy')\n",
    "y_test = np.load('data/regression/y_test.npy')"
   ]
  },
  {
   "cell_type": "markdown",
   "id": "46a1e21d",
   "metadata": {},
   "source": [
    "### Régression avec VS sans Cross Validation"
   ]
  },
  {
   "cell_type": "markdown",
   "id": "741fb877",
   "metadata": {},
   "source": [
    " Les données semblent centrées donc on a set fit_intercept = False."
   ]
  },
  {
   "cell_type": "code",
   "execution_count": 5,
   "id": "b6526a92",
   "metadata": {
    "scrolled": true
   },
   "outputs": [
    {
     "name": "stdout",
     "output_type": "stream",
     "text": [
      "Lasso Sans GridSearchCV:  -6.2890074371080535\n",
      "Lasso Avec GridSearchCV:  0.8988476972984798\n",
      "Best hyperparameters: {'alpha': 0.011188722115874222}\n"
     ]
    },
    {
     "data": {
      "image/png": "[encoded data removed]",
      "text/plain": [
       "<Figure size 432x288 with 1 Axes>"
      ]
     },
     "metadata": {
      "needs_background": "light"
     },
     "output_type": "display_data"
    }
   ],
   "source": [
    "clf = Lasso(fit_intercept=False).fit(X_train, y_train)\n",
    "y_pred_lasso = clf.predict(X_test)\n",
    "print(\"Lasso Sans GridSearchCV: \", r2_score(y_test, y_pred_lasso))\n",
    "\n",
    "clf_CV = GridSearchCV(Lasso(fit_intercept=False), {'alpha': np.logspace(-2, 0, 42)}).fit(X_train, y_train)\n",
    "y_pred_lasso_cv = clf_CV.predict(X_test)\n",
    "print(\"Lasso Avec GridSearchCV: \", r2_score(y_test, y_pred_lasso_cv))\n",
    "print(f'Best hyperparameters: {clf_CV.best_params_}')\n",
    "\n",
    "# Plot the data and the predictions\n",
    "plt.scatter(X_test[:, 0], y_test, color='b')\n",
    "plt.plot(X_test[:, 0], y_pred_lasso_cv, color='r', label='Lasso CV Regression')\n",
    "plt.plot(X_test[:, 0], y_pred_lasso, color='g', label='Lasso Regression')\n",
    "plt.legend()\n",
    "plt.show()"
   ]
  },
  {
   "cell_type": "markdown",
   "id": "386075f0",
   "metadata": {},
   "source": [
    "Le score R-carré (R2) est une mesure statistique qui représente la proportion de la variance de la variable dépendante expliquée par les variables indépendantes dans un modèle de régression. Il varie de 0 à 1, des valeurs plus élevées indiquant un meilleur ajustement du modèle aux données.\n",
    "\n",
    "Cependant, dans certains cas, il est possible d’obtenir un score R2 négatif. Cela peut se produire lorsque le modèle choisi s’ajuste aux données moins bien qu’une ligne horizontale (c’est-à-dire un modèle simple qui prédit toujours la valeur moyenne de la variable dépendante). Dans ce cas, le score R2 peut être négatif, indiquant que le modèle ne convient pas bien aux données.\n",
    "\n",
    "Un score R2 négatif peut également se produire lors de l’utilisation de la validation croisée ou lors de l’évaluation des performances d’un modèle sur un ensemble de test séparé. Dans ces cas, cela indique que le modèle surajuste les données d’apprentissage et ne se généralise pas bien aux nouvelles données."
   ]
  },
  {
   "cell_type": "markdown",
   "id": "b96bd2ae",
   "metadata": {},
   "source": [
    "La cross validation est mieux"
   ]
  },
  {
   "cell_type": "markdown",
   "id": "36b9e75a",
   "metadata": {},
   "source": [
    "### Ridge VS Lasso"
   ]
  },
  {
   "cell_type": "code",
   "execution_count": 6,
   "id": "9122d1c6",
   "metadata": {},
   "outputs": [
    {
     "name": "stdout",
     "output_type": "stream",
     "text": [
      "Ridge avec GridSearchCV:  0.6940586261795958\n",
      "Lasso Avec GridSearchCV:  0.8988476972984798\n"
     ]
    }
   ],
   "source": [
    "clf_CV = GridSearchCV(Ridge(fit_intercept=False), {'alpha': np.logspace(-5, 0, 42)}).fit(X_train, y_train)\n",
    "y_pred_ridge_cv = clf_CV.predict(X_test)\n",
    "print(\"Ridge avec GridSearchCV: \", r2_score(y_test, y_pred_ridge_cv))\n",
    "print(\"Lasso Avec GridSearchCV: \", r2_score(y_test, y_pred_lasso_cv))"
   ]
  },
  {
   "cell_type": "markdown",
   "id": "afd84aa5",
   "metadata": {},
   "source": [
    "Lasso est mieux youpi"
   ]
  },
  {
   "cell_type": "markdown",
   "id": "8a99ad78",
   "metadata": {},
   "source": [
    "## 5 classification on a given dataset"
   ]
  },
  {
   "cell_type": "code",
   "execution_count": 7,
   "id": "0e667688",
   "metadata": {},
   "outputs": [],
   "source": [
    "X_train = np.load('data/classification/X_train.npy')\n",
    "y_train = np.load('data/classification/y_train.npy')\n",
    "X_test = np.load('data/classification/X_test.npy')\n",
    "y_test = np.load('data/classification/y_test.npy')"
   ]
  },
  {
   "cell_type": "code",
   "execution_count": 8,
   "id": "3cf0be45",
   "metadata": {},
   "outputs": [
    {
     "data": {
      "text/plain": [
       "(500, 50)"
      ]
     },
     "execution_count": 8,
     "metadata": {},
     "output_type": "execute_result"
    }
   ],
   "source": [
    "X_train.shape"
   ]
  },
  {
   "cell_type": "markdown",
   "id": "9d053544",
   "metadata": {},
   "source": [
    "### Classification avec VS sans Cross Validation"
   ]
  },
  {
   "cell_type": "code",
   "execution_count": 9,
   "id": "06b11e60",
   "metadata": {},
   "outputs": [
    {
     "name": "stdout",
     "output_type": "stream",
     "text": [
      "k-NN mean accuracy: 0.77\n",
      "k-NN mean accuracy: 0.80\n",
      "Best hyperparameters: {'metric': 'minkowski', 'n_neighbors': 15, 'weights': 'uniform'}\n"
     ]
    }
   ],
   "source": [
    "# Create an instance of KNeighborsClassifier\n",
    "knn = KNeighborsClassifier()\n",
    "\n",
    "# Fit the model to the training data\n",
    "knn.fit(X_train, y_train)\n",
    "\n",
    "# Compute the mean accuracy of the k-NN model on the test data\n",
    "knn_accuracy = knn.score(X_test, y_test)\n",
    "\n",
    "# Print the mean accuracy of the k-NN model\n",
    "print(f'k-NN mean accuracy: {knn_accuracy:.2f}')\n",
    "\n",
    "param_grid = { 'n_neighbors' : [5,7,9,11,13,15],\n",
    "               'weights' : ['uniform','distance'],\n",
    "               'metric' : ['minkowski','euclidean','manhattan']}\n",
    "clf_cv = GridSearchCV(KNeighborsClassifier(), param_grid=param_grid).fit(X_train, y_train)\n",
    "knn_accuracy_cv = clf_cv.score(X_test, y_test)\n",
    "print(f'k-NN mean accuracy: {knn_accuracy_cv:.2f}')\n",
    "print(f'Best hyperparameters: {clf_cv.best_params_}')\n"
   ]
  },
  {
   "cell_type": "markdown",
   "id": "66e9dc88",
   "metadata": {},
   "source": [
    "La cross validation est mieux"
   ]
  },
  {
   "cell_type": "markdown",
   "id": "d1967790",
   "metadata": {},
   "source": [
    "### Random Forest"
   ]
  },
  {
   "cell_type": "code",
   "execution_count": 10,
   "id": "e3cde031",
   "metadata": {},
   "outputs": [
    {
     "name": "stdout",
     "output_type": "stream",
     "text": [
      "Random Forest mean accuracy: 0.86\n"
     ]
    }
   ],
   "source": [
    "param_grid = param_grid = {\n",
    "    'n_estimators': [10, 20, 100],\n",
    "    'max_depth': [None, 10, 20],\n",
    "}\n",
    "\n",
    "clf_cv = GridSearchCV(RandomForestClassifier(random_state=23), param_grid=param_grid).fit(X_train, y_train)\n",
    "forest_accuracy_cv = clf_cv.score(X_test, y_test)\n",
    "print(f'Random Forest mean accuracy: {forest_accuracy_cv:.2f}')"
   ]
  },
  {
   "cell_type": "markdown",
   "id": "14dd86c7",
   "metadata": {},
   "source": [
    "forest est cool youpi"
   ]
  }
 ],
 "metadata": {
  "kernelspec": {
   "display_name": "Python 3 (ipykernel)",
   "language": "python",
   "name": "python3"
  },
  "language_info": {
   "codemirror_mode": {
    "name": "ipython",
    "version": 3
   },
   "file_extension": ".py",
   "mimetype": "text/x-python",
   "name": "python",
   "nbconvert_exporter": "python",
   "pygments_lexer": "ipython3",
   "version": "3.9.7"
  }
 },
 "nbformat": 4,
 "nbformat_minor": 5
}
